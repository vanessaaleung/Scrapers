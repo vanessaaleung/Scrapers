{
 "cells": [
  {
   "cell_type": "code",
   "execution_count": 19,
   "metadata": {},
   "outputs": [],
   "source": [
    "from selenium import webdriver\n",
    "import pandas as pd"
   ]
  },
  {
   "cell_type": "code",
   "execution_count": 104,
   "metadata": {},
   "outputs": [],
   "source": [
    "driver = webdriver.Chrome(executable_path='/Users/eric/Documents/Vanessa/chromedriver')\n",
    "driver.get(\"https://fortune.com/100-fastest-growing-companies/2019/search/?country=U.S.\")"
   ]
  },
  {
   "cell_type": "code",
   "execution_count": 105,
   "metadata": {},
   "outputs": [],
   "source": [
    "companies_info = []"
   ]
  },
  {
   "cell_type": "code",
   "execution_count": 106,
   "metadata": {},
   "outputs": [],
   "source": [
    "driver.switch_to.frame(driver.find_element_by_tag_name(\"iframe\"))\n",
    "close_popup = driver.find_element_by_class_name('close-desktop').click()\n",
    "accept_cookies = driver.find_element_by_id('truste-consent-button').click()"
   ]
  },
  {
   "cell_type": "code",
   "execution_count": 107,
   "metadata": {},
   "outputs": [],
   "source": [
    "headers = driver.find_elements_by_class_name('rt-resizable-header-content')\n",
    "headers = [header.text.replace('REMOVE\\n', '') for header in headers]"
   ]
  },
  {
   "cell_type": "code",
   "execution_count": 109,
   "metadata": {},
   "outputs": [
    {
     "name": "stdout",
     "output_type": "stream",
     "text": [
      "Finish\n"
     ]
    }
   ],
   "source": [
    "companies = driver.find_elements_by_class_name('rt-tr-group')\n",
    "for company in companies:\n",
    "    company_info = []\n",
    "    columns = company.find_elements_by_class_name('rt-td')\n",
    "    for col in columns:\n",
    "        company_info.append(col.text)\n",
    "    companies_info.append(company_info)\n",
    "        \n",
    "while driver.find_element_by_xpath('//div[@class=\"-next\"]/button').is_enabled():\n",
    "    driver.find_element_by_xpath('//div[@class=\"-next\"]').click()\n",
    "    companies = driver.find_elements_by_class_name('rt-tr-group')\n",
    "    for company in companies:\n",
    "        company_info = []\n",
    "        columns = company.find_elements_by_class_name('rt-td')\n",
    "        for col in columns:\n",
    "            company_info.append(col.text)\n",
    "        companies_info.append(company_info)\n",
    "    \n",
    "print('Finish')"
   ]
  },
  {
   "cell_type": "code",
   "execution_count": 110,
   "metadata": {},
   "outputs": [
    {
     "data": {
      "text/html": [
       "<div>\n",
       "<style scoped>\n",
       "    .dataframe tbody tr th:only-of-type {\n",
       "        vertical-align: middle;\n",
       "    }\n",
       "\n",
       "    .dataframe tbody tr th {\n",
       "        vertical-align: top;\n",
       "    }\n",
       "\n",
       "    .dataframe thead th {\n",
       "        text-align: right;\n",
       "    }\n",
       "</style>\n",
       "<table border=\"1\" class=\"dataframe\">\n",
       "  <thead>\n",
       "    <tr style=\"text-align: right;\">\n",
       "      <th></th>\n",
       "      <th>RANK</th>\n",
       "      <th>NAME</th>\n",
       "      <th>REVENUE PAST FOUR QUARTERS ($M)</th>\n",
       "      <th>NET INCOME PAST FOUR QUARTERS ($M)</th>\n",
       "      <th>MARKET VALUE AS OF JUNE 28, 2019 ($M)</th>\n",
       "      <th>EPS 3 YR ANNUAL GROWTH RATE</th>\n",
       "      <th>REVENUE 3 YR ANNUAL GROWTH RATE</th>\n",
       "      <th>TOTAL RETURN 3 YR ANNUAL RATE</th>\n",
       "    </tr>\n",
       "  </thead>\n",
       "  <tbody>\n",
       "    <tr>\n",
       "      <th>0</th>\n",
       "      <td>2</td>\n",
       "      <td>Texas Pacific Land Trust</td>\n",
       "      <td>$432</td>\n",
       "      <td>$306</td>\n",
       "      <td>$6,104</td>\n",
       "      <td>95%</td>\n",
       "      <td>85%</td>\n",
       "      <td>68%</td>\n",
       "    </tr>\n",
       "    <tr>\n",
       "      <th>1</th>\n",
       "      <td>3</td>\n",
       "      <td>Micron Technology</td>\n",
       "      <td>$29,985</td>\n",
       "      <td>$13,060</td>\n",
       "      <td>$42,596</td>\n",
       "      <td>173%</td>\n",
       "      <td>38%</td>\n",
       "      <td>41%</td>\n",
       "    </tr>\n",
       "    <tr>\n",
       "      <th>2</th>\n",
       "      <td>4</td>\n",
       "      <td>Corcept Therapeutics</td>\n",
       "      <td>$258</td>\n",
       "      <td>$76</td>\n",
       "      <td>$1,281</td>\n",
       "      <td>295%</td>\n",
       "      <td>74%</td>\n",
       "      <td>27%</td>\n",
       "    </tr>\n",
       "    <tr>\n",
       "      <th>3</th>\n",
       "      <td>5</td>\n",
       "      <td>Netflix</td>\n",
       "      <td>$16,614</td>\n",
       "      <td>$1,265</td>\n",
       "      <td>$160,600</td>\n",
       "      <td>129%</td>\n",
       "      <td>33%</td>\n",
       "      <td>59%</td>\n",
       "    </tr>\n",
       "    <tr>\n",
       "      <th>4</th>\n",
       "      <td>6</td>\n",
       "      <td>Paycom Software</td>\n",
       "      <td>$612</td>\n",
       "      <td>$143</td>\n",
       "      <td>$13,265</td>\n",
       "      <td>80%</td>\n",
       "      <td>34%</td>\n",
       "      <td>74%</td>\n",
       "    </tr>\n",
       "  </tbody>\n",
       "</table>\n",
       "</div>"
      ],
      "text/plain": [
       "  RANK                      NAME REVENUE PAST FOUR QUARTERS ($M)  \\\n",
       "0    2  Texas Pacific Land Trust                            $432   \n",
       "1    3         Micron Technology                         $29,985   \n",
       "2    4      Corcept Therapeutics                            $258   \n",
       "3    5                   Netflix                         $16,614   \n",
       "4    6           Paycom Software                            $612   \n",
       "\n",
       "  NET INCOME PAST FOUR QUARTERS ($M) MARKET VALUE AS OF JUNE 28, 2019 ($M)  \\\n",
       "0                               $306                                $6,104   \n",
       "1                            $13,060                               $42,596   \n",
       "2                                $76                                $1,281   \n",
       "3                             $1,265                              $160,600   \n",
       "4                               $143                               $13,265   \n",
       "\n",
       "  EPS 3 YR ANNUAL GROWTH RATE REVENUE 3 YR ANNUAL GROWTH RATE  \\\n",
       "0                         95%                             85%   \n",
       "1                        173%                             38%   \n",
       "2                        295%                             74%   \n",
       "3                        129%                             33%   \n",
       "4                         80%                             34%   \n",
       "\n",
       "  TOTAL RETURN 3 YR ANNUAL RATE  \n",
       "0                           68%  \n",
       "1                           41%  \n",
       "2                           27%  \n",
       "3                           59%  \n",
       "4                           74%  "
      ]
     },
     "execution_count": 110,
     "metadata": {},
     "output_type": "execute_result"
    }
   ],
   "source": [
    "df = pd.DataFrame(companies_info, columns = headers)\n",
    "df.head()"
   ]
  },
  {
   "cell_type": "code",
   "execution_count": 111,
   "metadata": {},
   "outputs": [
    {
     "data": {
      "text/plain": [
       "87"
      ]
     },
     "execution_count": 111,
     "metadata": {},
     "output_type": "execute_result"
    }
   ],
   "source": [
    "len(df)"
   ]
  },
  {
   "cell_type": "code",
   "execution_count": 112,
   "metadata": {},
   "outputs": [],
   "source": [
    "df.to_csv('fortune-fast-growing.csv')"
   ]
  },
  {
   "cell_type": "code",
   "execution_count": null,
   "metadata": {},
   "outputs": [],
   "source": []
  }
 ],
 "metadata": {
  "kernelspec": {
   "display_name": "Python 3",
   "language": "python",
   "name": "python3"
  },
  "language_info": {
   "codemirror_mode": {
    "name": "ipython",
    "version": 3
   },
   "file_extension": ".py",
   "mimetype": "text/x-python",
   "name": "python",
   "nbconvert_exporter": "python",
   "pygments_lexer": "ipython3",
   "version": "3.7.8"
  }
 },
 "nbformat": 4,
 "nbformat_minor": 4
}
